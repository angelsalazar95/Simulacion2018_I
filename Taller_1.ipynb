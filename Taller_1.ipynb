{
 "cells": [
  {
   "cell_type": "markdown",
   "metadata": {},
   "source": [
    "# Taller #"
   ]
  },
  {
   "cell_type": "markdown",
   "metadata": {},
   "source": [
    "### 1. Si x0 = 5 y xn = 3xn−1 mod 150, determine x1, . . . , x10. ###"
   ]
  },
  {
   "cell_type": "code",
   "execution_count": 3,
   "metadata": {},
   "outputs": [
    {
     "name": "stdout",
     "output_type": "stream",
     "text": [
      " \n",
      "['X1 = 0.1', 'X2 = 0.3', 'X3 = 0.9', 'X4 = 0.7', 'X5 = 0.1', 'X6 = 0.3', 'X7 = 0.9', 'X8 = 0.7', 'X9 = 0.1', 'X10 = 0.3']\n",
      " \n"
     ]
    }
   ],
   "source": [
    "#Generador Congruencial Mixto\n",
    "x0 = 5\n",
    "a = 3\n",
    "c = 0\n",
    "m = 150\n",
    "\n",
    "def generar_aleatorios(cantidad):\n",
    "    valores = []\n",
    "    xn = x0\n",
    "    for i in range(cantidad):\n",
    "        xn = (a*xn + c) % m\n",
    "        valores.append(\"X\"+str(i+1)+\" = \"+str(xn/m))\n",
    "    print(valores)\n",
    "    print(\" \")\n",
    "    \n",
    "    \n",
    "if __name__ == \"__main__\":\n",
    "    print(\" \")\n",
    "    generar_aleatorios(10)"
   ]
  },
  {
   "cell_type": "markdown",
   "metadata": {},
   "source": [
    ">&nbsp; X1 = 0.1, X2 = 0.3, X3 = 0.9, X4 = 0.7, X5 = 0.1, X6 = 0.3, X7 = 0.9, X8 = 0.7, X9 = 0.1, X10 = 0.3"
   ]
  },
  {
   "cell_type": "markdown",
   "metadata": {},
   "source": [
    "### 2. Si x0 = 3 y xn = 5xn−1 + 7 mod 200, determine x1, . . . , x10. ###"
   ]
  },
  {
   "cell_type": "code",
   "execution_count": 5,
   "metadata": {
    "scrolled": false
   },
   "outputs": [
    {
     "name": "stdout",
     "output_type": "stream",
     "text": [
      " \n",
      "['X1 = 0.11', 'X2 = 0.585', 'X3 = 0.96', 'X4 = 0.835', 'X5 = 0.21', 'X6 = 0.085', 'X7 = 0.46', 'X8 = 0.335', 'X9 = 0.71', 'X10 = 0.585']\n",
      " \n"
     ]
    }
   ],
   "source": [
    "x0 = 3\n",
    "a = 5\n",
    "c = 7\n",
    "m = 200\n",
    "\n",
    "def generar_aleatorios(cantidad):\n",
    "    valores = []\n",
    "    xn = x0\n",
    "    for i in range(cantidad):\n",
    "        xn = (a*xn + c) % m\n",
    "        valores.append(\"X\"+str(i+1)+\" = \"+str(xn/m))\n",
    "    print(valores)\n",
    "    print(\" \")\n",
    "    \n",
    "    \n",
    "if __name__ == \"__main__\":\n",
    "    print(\" \")\n",
    "    generar_aleatorios(10)"
   ]
  },
  {
   "cell_type": "markdown",
   "metadata": {},
   "source": [
    ">&nbsp; X1 = 0.11, X2 = 0.585, X3 = 0.96, X4 = 0.835, X5 = 0.21, X6 = 0.085, X7 = 0.46, X8 = 0.335, X9 = 0.71, X10 = 0.585"
   ]
  },
  {
   "cell_type": "markdown",
   "metadata": {},
   "source": [
    "\n",
    "### 3. Escriba un programa para generar n valores a partir de la función de masa de probabilidad p1 = 1/3, p2 = 2/3 ###\n",
    "\n",
    "    (a) Sea n = 100, ejecute el programa y determine la proporcion de valores que sean iguales a 1.\n",
    "    (b) Repita (a) con n = 1000.\n",
    "    (c) Repita (a) con n = 10000."
   ]
  },
  {
   "cell_type": "code",
   "execution_count": 21,
   "metadata": {},
   "outputs": [
    {
     "name": "stdout",
     "output_type": "stream",
     "text": [
      "C1:  33\n",
      "C1:  325\n",
      "C1:  3352\n"
     ]
    }
   ],
   "source": [
    "fa = []\n",
    "\n",
    "#Parametros de generador de aleatorios\n",
    "xn = 790335\n",
    "a = 25214903917 \n",
    "m = 2 ** 48 - 1\n",
    "c = 11\n",
    "        \n",
    "def set_fa(p):\n",
    "    global fa\n",
    "    n = len(p)\n",
    "    x0 = p[0]\n",
    "    fa.append(x0)\n",
    "    for i in range(1,n):\n",
    "        x0 = x0 + p[i]\n",
    "        fa.append(x0)\n",
    "\n",
    "def generar_aleatorio():\n",
    "    global xn\n",
    "    x = (a*xn + c) % m\n",
    "    xn = x\n",
    "    return (x/m)\n",
    "\n",
    "def transInv(n):\n",
    "    u = 0\n",
    "    i = 0\n",
    "    va = [0]*n;\n",
    "    cont = n;\n",
    "    cont1 = 0\n",
    "    while cont>0:\n",
    "        u = generar_aleatorio()\n",
    "        if(u < fa[0]):\n",
    "            cont1+=1\n",
    "        cont-=1\n",
    "    print(\"C1: \",cont1)\n",
    "\n",
    "if __name__ == \"__main__\":\n",
    "    p = [1/3,2/3]\n",
    "    set_fa(p)\n",
    "    transInv(100)\n",
    "    transInv(1000)\n",
    "    transInv(10000)"
   ]
  },
  {
   "cell_type": "markdown",
   "metadata": {},
   "source": [
    "> a)n = 100 $\\to$ 33\n",
    "\n",
    "> b)n = 1000 $\\to$ 325\n",
    "\n",
    "> c)n = 10000 $\\to$ 3352"
   ]
  },
  {
   "cell_type": "markdown",
   "metadata": {
    "collapsed": true
   },
   "source": [
    "### 4. Emplee la simulación para aproximar las siguientes integrales. Compare su estimación con la respuesta exacta, si ésta se conoce. ###\n",
    "\n",
    "&nbsp;&nbsp;&nbsp;&nbsp;&nbsp;**(a)** $ \\int_0^1\\exp(\\mathrm{e}^{x})\\,\\mathrm{d}x $\n",
    "\n",
    "&nbsp;&nbsp;&nbsp;&nbsp;&nbsp;**(b)** $ \\int_0^1\\mathrm{(1-\\mathrm{x}^{2})}^{3/_2}\\,\\mathrm{d}x $\n",
    "\n",
    "&nbsp;&nbsp;&nbsp;&nbsp;&nbsp;**(c)** $ \\int_{-2}^{2}\\,\\mathrm{e}^{x+\\mathrm{x}^{2}}\\,\\mathrm{d}x $\n",
    "\n",
    "&nbsp;&nbsp;&nbsp;&nbsp;&nbsp;**(d)** $ \\int_{0}^\\infty\\mathrm{x(1+\\mathrm{x}^{2})}^{-2}\\,\\mathrm{d}x $\n",
    "\n",
    "&nbsp;&nbsp;&nbsp;&nbsp;&nbsp;**(e)** $ \\int_{-\\infty}^\\infty\\mathrm{e}^{\\mathrm{-x}^{2}}\\,\\mathrm{d}x $\n",
    "\n",
    "&nbsp;&nbsp;&nbsp;&nbsp;&nbsp;**(f)** $ \\int_0^1\\int_0^1\\mathrm{e}^{\\mathrm{(x+y)}^2}\\,\\mathrm{d}y\\,\\mathrm{d}x  $\n"
   ]
  },
  {
   "cell_type": "code",
   "execution_count": 26,
   "metadata": {},
   "outputs": [
    {
     "name": "stdout",
     "output_type": "stream",
     "text": [
      "a:  6.304489226710461\n",
      "b:  0.5887300906562706\n",
      "c:  93.24751354620706\n",
      "d:  0.48982683342449324\n",
      "e:  1.7749022702699273\n",
      "f:  4.897309761098213\n"
     ]
    }
   ],
   "source": [
    "import math \n",
    "\n",
    "xn1 = 790335\n",
    "xn2 = 986523\n",
    "\n",
    "a = 25214903917 \n",
    "m = 2 ** 48 - 1\n",
    "c = 11\n",
    "\n",
    "def generar_aleatorio(x):\n",
    "    xn = (a*x + c) % m\n",
    "    return (xn/m)\n",
    "\n",
    "def montecarlo(mn,a,b,f):\n",
    "    n = 0\n",
    "    x = 0\n",
    "    y = 0\n",
    "    xn = xn1\n",
    "    xx = []\n",
    "    yy = []\n",
    "    suma = 0\n",
    "    while n<mn:\n",
    "        u = generar_aleatorio(xn)\n",
    "        xn = u*m\n",
    "        x = a + (b-a)*u\n",
    "        y = (b-a)*f(x)\n",
    "        xx.append(x)\n",
    "        yy.append(f(x))\n",
    "        suma = suma + y\n",
    "        n = n + 1\n",
    "    return suma/n\n",
    "\n",
    "def montecarlo_d(mn,a,b,c,d,f):\n",
    "    n = 0\n",
    "    x = 0\n",
    "    y = 0\n",
    "    xni = xn1\n",
    "    xnj = xn2\n",
    "    suma = 0\n",
    "    while n<mn:\n",
    "        u1 = generar_aleatorio(xni)\n",
    "        u2 = generar_aleatorio(xnj)\n",
    "        xni = u1*m\n",
    "        xnj = u2*m\n",
    "        x = a + (b-a)*u1\n",
    "        y = c + (d-c)*u2\n",
    "        fo = (b-a)*(d-c)*f(x,y)\n",
    "        suma = suma + fo\n",
    "        n = n + 1\n",
    "    return suma/n\n",
    "\n",
    "if __name__ == \"__main__\":\n",
    "    print(\"a: \", montecarlo(10000,0,1,lambda x: math.exp(math.exp(x))))\n",
    "    print(\"b: \", montecarlo(10000,0,1,lambda x: (1 - x**2)**(3/2)))\n",
    "    print(\"c: \", montecarlo(10000000,-2,2,lambda x: math.exp(x + x**2)))\n",
    "    print(\"d: \", montecarlo(1000000,0,7,lambda x: x*((1 + x**2)**-2)))\n",
    "    print(\"e: \", montecarlo(1000000,-5,5,lambda x: math.exp(-x**2)))\n",
    "    print(\"f: \", montecarlo_d(10000,0,1,0,1,lambda x,y: math.e**((x+y)**2)))"
   ]
  },
  {
   "cell_type": "markdown",
   "metadata": {},
   "source": [
    "> a)m = 10000 $\\to$ 6.304489226710461 &nbsp;  Expectativa $\\to$ 6.31656\n",
    "\n",
    "> b)m = 10000 $\\to$ 0.5887300906562706  &nbsp; Expectativa $\\to$  0.589049\n",
    "\n",
    "> c)m = 10000000 $\\to$ 93.24751354620706 &nbsp;  Expectativa $\\to$  93.1628\n",
    "\n",
    "> d)m = 1000000 (0,7) $\\to$ 0.48982683342449324 &nbsp; Expectativa $\\to$ 0.5\n",
    "\n",
    "> e)m = 1000000 (-5,5) $\\to$ 1.7749022702699273 &nbsp; Expectativa $\\to$ 1.7724538509055159\n",
    "\n",
    "> f)m = 10000 $\\to$ 4.897309761098214 &nbsp; Expectativa $\\to$ 4.89916"
   ]
  },
  {
   "cell_type": "markdown",
   "metadata": {},
   "source": [
    "### 5. Implemente el método de la transformada inversa para generación de variables aleatorias discretas con un ejemplo para los siguientes casos: ###\n",
    "\n",
    "    (a) Poisson\n",
    "    (b) Binomial\n",
    "    (c) Técnica de aceptación y rechazo\n",
    "    (d) Método de composicion"
   ]
  },
  {
   "cell_type": "code",
   "execution_count": 31,
   "metadata": {},
   "outputs": [
    {
     "name": "stdout",
     "output_type": "stream",
     "text": [
      "K: 20\n",
      "λ: 10\n",
      "Xi = 13  u -> 0.7968410039577264\n"
     ]
    }
   ],
   "source": [
    "#Transformada Inversa para generar variable aleatoria Poisson\n",
    "import math\n",
    "import matplotlib.pyplot as pl\n",
    "import time\n",
    "from datetime import datetime\n",
    "%matplotlib inline\n",
    "\n",
    "xn = datetime.now().microsecond\n",
    "a = 25214903917 \n",
    "m = 2 ** 48 - 1\n",
    "c = 11\n",
    "\n",
    "def inicializar(kk,lbb):\n",
    "    global lb,k,valido\n",
    "    print(\"K:\",kk)\n",
    "    print(chr(955)+\": \"+str(lbb))\n",
    "    k = kk\n",
    "    lb = lbb\n",
    "    p = math.exp(-lb)\n",
    "    f = p\n",
    "    i = 0\n",
    "    valido = True\n",
    "    \n",
    "def generar_aleatorio():\n",
    "    global xn\n",
    "    x = (a*xn + c) % m\n",
    "    xn = x\n",
    "    return (x/m)\n",
    "\n",
    "def transInv():\n",
    "    ct = 0\n",
    "    va = [None]*k\n",
    "    uu = [None]*k\n",
    "    if(valido):\n",
    "        u = generar_aleatorio()\n",
    "        i = 0\n",
    "        p = math.exp(-lb)\n",
    "        F = p\n",
    "        while ct<k:\n",
    "            if(u<F):\n",
    "                if(i<=k):\n",
    "                    va[i-1] = i\n",
    "                    uu[i-1] = u\n",
    "                ct = k\n",
    "            else:\n",
    "                p = lb*p/(i+1)\n",
    "                F = F + p\n",
    "                i += 1\n",
    "        imprimir(va,uu)\n",
    "\n",
    "def imprimir(va,uu):\n",
    "    for i in range(0,k):\n",
    "        if(va[i]!=None):\n",
    "            print(\"Xi\"+\" = \"+str(va[i])+ \"  u -> \"+str(uu[i]))\n",
    "\n",
    "if __name__ == \"__main__\":\n",
    "    inicializar(20,10)\n",
    "    transInv()\n",
    "    "
   ]
  },
  {
   "cell_type": "markdown",
   "metadata": {},
   "source": [
    "> **(a)** &nbsp;&nbsp; K:20  &nbsp; λ:10\n",
    "\n",
    "        Xi = 13  u -> 0.7968410039577264\n"
   ]
  },
  {
   "cell_type": "code",
   "execution_count": 36,
   "metadata": {},
   "outputs": [
    {
     "name": "stdout",
     "output_type": "stream",
     "text": [
      "n:  20\n",
      "p:  0.6\n",
      "Xi = 11  u -> 0.8562837624558058\n"
     ]
    }
   ],
   "source": [
    "#Transformada Inversa para generar variable aleatoria binomial\n",
    "import math\n",
    "import matplotlib.pyplot as pl\n",
    "import time\n",
    "from datetime import datetime\n",
    "%matplotlib inline\n",
    "\n",
    "xn = datetime.now().microsecond\n",
    "a = 25214903917 \n",
    "m = 2 ** 48 - 1\n",
    "c = 11\n",
    "\n",
    "def inicializar(nn,pp):\n",
    "    global n,p,valido\n",
    "    n = nn\n",
    "    p = pp\n",
    "    print(\"n: \",n)\n",
    "    print(\"p: \",p)\n",
    "    valido = True\n",
    "    \n",
    "def generar_aleatorio():\n",
    "    global xn\n",
    "    x = (a*xn + c) % m\n",
    "    xn = x\n",
    "    return (x/m)\n",
    "\n",
    "def transInv():\n",
    "    ct = n\n",
    "    a = 1\n",
    "    va = [None]*n\n",
    "    uu = [None]*n\n",
    "    if(valido):\n",
    "        c = p/(1-p)\n",
    "        i = 0\n",
    "        pr = (1-p)**n\n",
    "        F = pr\n",
    "        u = generar_aleatorio()\n",
    "        while ct>0:\n",
    "            if(u<F):\n",
    "                va[i] = i+1\n",
    "                uu[i] = u\n",
    "                break\n",
    "            else:\n",
    "                pr = (c*(n-1)/(i+1))*pr\n",
    "                F = F + pr\n",
    "                i += 1\n",
    "            ct-=1\n",
    "        imprimir(va,uu)\n",
    "\n",
    "def imprimir(va,uu):\n",
    "    for i in range(0,n):\n",
    "        if(va[i]!=None):\n",
    "            print(\"Xi\"+\" = \"+str(va[i])+ \"  u -> \"+str(uu[i]))\n",
    "\n",
    "if __name__ == \"__main__\":\n",
    "    inicializar(20,0.6)\n",
    "    transInv()"
   ]
  },
  {
   "cell_type": "markdown",
   "metadata": {},
   "source": [
    "> **(b)** &nbsp;&nbsp; n: 20  &nbsp; p: 0.6\n",
    "\n",
    "        Xi = 11  u -> 0.8562837624558058"
   ]
  },
  {
   "cell_type": "code",
   "execution_count": 65,
   "metadata": {},
   "outputs": [
    {
     "name": "stdout",
     "output_type": "stream",
     "text": [
      "n:  10\n",
      "p:  [0.11, 0.12, 0.09, 0.08, 0.12, 0.1, 0.09, 0.09, 0.1, 0.1]\n",
      " \n",
      "Xi = 5  u -> 0.0070449390666880414\n"
     ]
    }
   ],
   "source": [
    "# Tecnica de aceptación y rechazo\n",
    "import math\n",
    "import time\n",
    "from datetime import datetime\n",
    "\n",
    "xn1 = datetime.now().microsecond\n",
    "xn2 = 3000000 + datetime.now().microsecond\n",
    "\n",
    "a = 25214903917 \n",
    "m = 2 ** 48 - 1\n",
    "b = 11\n",
    "\n",
    "def inicializar(nn,pp):\n",
    "    global p , n, valido, c, q\n",
    "    my = 0\n",
    "    n = nn\n",
    "    p = pp\n",
    "    q = 1/n\n",
    "    valido = True\n",
    "    for i in range(n):\n",
    "        x = p[i]\n",
    "        if(x>my):\n",
    "            my = x\n",
    "    c = round(my/q,2)\n",
    "    print(\"n: \",n)\n",
    "    print(\"p: \",p)\n",
    "    print(\" \")\n",
    "    \n",
    "def generar_aleatorio(xn):\n",
    "    xn = (a*xn + b) % m\n",
    "    return (xn/m)\n",
    "\n",
    "def tecAR():\n",
    "    global xn1, xn2\n",
    "    ct = n\n",
    "    va = [None]*n\n",
    "    uu = [None]*n\n",
    "    if(valido):\n",
    "        while ct>0:\n",
    "            u1 = generar_aleatorio(xn1)\n",
    "            xn1 = u1*m\n",
    "            y = int(n*u1) + 1\n",
    "            u2 = generar_aleatorio(xn2)\n",
    "            xn2 = u2*m\n",
    "            py = p[y-1]\n",
    "            fu = py/c*q\n",
    "            if(u2<=fu):\n",
    "                va[y-1] = y\n",
    "                uu[y-1] = u2\n",
    "                ct=-1\n",
    "                break\n",
    "        imprimir(va,uu)\n",
    "\n",
    "def imprimir(va,uu):\n",
    "    for i in range(0,n):\n",
    "        if(va[i]!=None):\n",
    "            print(\"Xi\"+\" = \"+str(va[i])+ \"  u -> \"+str(uu[i]))\n",
    "\n",
    "if __name__ == \"__main__\":\n",
    "    pp = [0.11,0.12,0.09,0.08,0.12,0.10,0.09,0.09,0.1,0.1]\n",
    "    inicializar(len(pp),pp)\n",
    "    tecAR()"
   ]
  },
  {
   "cell_type": "markdown",
   "metadata": {},
   "source": [
    "> **(c)** &nbsp;&nbsp; n: 10 &nbsp; p:  [0.11, 0.12, 0.09, 0.08, 0.12, 0.1, 0.09, 0.09, 0.1, 0.1]\n",
    "\n",
    "        Xi = 5  u -> 0.0070449390666880414\n"
   ]
  },
  {
   "cell_type": "code",
   "execution_count": 75,
   "metadata": {},
   "outputs": [
    {
     "name": "stdout",
     "output_type": "stream",
     "text": [
      "n:  10\n",
      "p:  [0.05, 0.05, 0.05, 0.05, 0.05, 0.15, 0.15, 0.15, 0.15, 0.15]\n",
      " \n",
      "Xi = 8  u -> 0.023126638828507934\n"
     ]
    }
   ],
   "source": [
    "# Tecnica de Composicion\n",
    "import math\n",
    "import time\n",
    "from datetime import datetime\n",
    "\n",
    "xn1 = datetime.now().microsecond\n",
    "xn2 = 3000000 + datetime.now().microsecond\n",
    "\n",
    "a = 25214903917 \n",
    "m = 2 ** 48 - 1\n",
    "b = 11\n",
    "\n",
    "def inicializar(pp,alp):\n",
    "    global p , n, valido, ap\n",
    "    ap = alp\n",
    "    n = len(pp)\n",
    "    p = pp\n",
    "    valido = True\n",
    "    print(\"n: \",n)\n",
    "    print(\"p: \",p)\n",
    "    print(\" \")\n",
    "    \n",
    "def generar_aleatorio(xn):\n",
    "    xn = (a*xn + b) % m\n",
    "    return (xn/m)\n",
    "\n",
    "def metCp():\n",
    "    global xn1, xn2\n",
    "    ct = n\n",
    "    va = []\n",
    "    uu = []\n",
    "    if(valido):\n",
    "        u1 = generar_aleatorio(xn1)\n",
    "        xn1 = u1*m\n",
    "        u2 = generar_aleatorio(xn2)\n",
    "        xn2 = u2*m\n",
    "        if(u1<ap):\n",
    "            x = int(n*u2) + 1\n",
    "        else:\n",
    "            x = int((n/2)*u2) + int(n/2 + 1)\n",
    "        va.append(x)\n",
    "        uu.append(u1)\n",
    "        imprimir(va,uu)\n",
    "\n",
    "def imprimir(va,uu):\n",
    "    for i in range(0,len(va)):\n",
    "        if(va[i]!=None):\n",
    "            print(\"Xi\"+\" = \"+str(va[i])+ \"  u -> \"+str(uu[i]))\n",
    "\n",
    "if __name__ == \"__main__\":\n",
    "    v = [0.05,0.05,0.05,0.05,0.05,0.15,0.15,0.15,0.15,0.15];\n",
    "    alpha = 0.5\n",
    "    inicializar(v,alpha)\n",
    "    metCp()"
   ]
  },
  {
   "cell_type": "markdown",
   "metadata": {},
   "source": [
    "> **(d)** &nbsp;&nbsp; n: 10 &nbsp;&nbsp; $\\alpha = 0.5$ p =  [0.05, 0.05, 0.05, 0.05, 0.05, 0.15, 0.15, 0.15, 0.15, 0.15]\n",
    "\n",
    "        Xi = 8  u -> 0.023126638828507934"
   ]
  },
  {
   "cell_type": "markdown",
   "metadata": {},
   "source": [
    "### 6. Se baraja un conjunto un conjunto de 100 cartas (enumeradas del 1 al 100) y luego se voltean, una a la vez. Decimos que ocurre un \"exito\" si la carta i es la i-ésima carta volteada, i = 1; :::::; 100. ###\n",
    "\n",
    "    (a) Escriba un programa de simulacion para estimar la esperanza y la varianza del numero total de exitos.\n",
    "    (b) Ejecute el programa y determine las repuestas exactas y comparelas con sus estimaciones."
   ]
  },
  {
   "cell_type": "code",
   "execution_count": 22,
   "metadata": {},
   "outputs": [
    {
     "name": "stdout",
     "output_type": "stream",
     "text": [
      "a)\n",
      "Exitos: 1\n",
      "Probabilidad de Exitos Estimado:  0.01\n",
      "Valor Esperado estimado:  1\n",
      "Varianza estimada:  0.99\n",
      " \n",
      "b)\n",
      "Exitos:  1\n",
      "Probabilidad de Exitos:  1.0\n",
      "Valor Esperado:  100.0\n",
      "Varianza:  0.0\n"
     ]
    }
   ],
   "source": [
    "\n",
    "import math\n",
    "import time\n",
    "from datetime import datetime\n",
    "\n",
    "xn = datetime.now().microsecond\n",
    "a = 25214903917 \n",
    "m = 2 ** 48 - 1\n",
    "c = 11\n",
    "\n",
    "def inicializar(m):\n",
    "    global n,cartas\n",
    "    n = m\n",
    "    cartas = [None]*n\n",
    "    for i in range(n):\n",
    "        cartas[i] = i + 1\n",
    "        \n",
    "def generar_aleatorio():\n",
    "    global xn\n",
    "    x = (a*xn + c) % m\n",
    "    xn = x\n",
    "    return adecuar(x/m)\n",
    "\n",
    "def adecuar(x):\n",
    "    return int(x*100) + 1\n",
    "\n",
    "def voltearCartas():\n",
    "    cat_ct = 1\n",
    "    res = []\n",
    "    ext = 0\n",
    "\n",
    "    while cat_ct <= n:\n",
    "        x = generar_aleatorio()\n",
    "        if(x not in res):\n",
    "            res.append(x)\n",
    "            if(x == cat_ct):\n",
    "                ext+=1\n",
    "        cat_ct += 1\n",
    "    p = ext/n\n",
    "    vz = n*p*(1-p)\n",
    "    p1 = 1/math.factorial(ext)\n",
    "    z = n*p1*(1-p1)\n",
    "    \n",
    "    print(\"a)\")\n",
    "    print(\"Exitos:\",ext)\n",
    "    print(\"Probabilidad de Exitos Estimado: \",p)\n",
    "    print(\"Valor Esperado estimado: \",ext)\n",
    "    print(\"Varianza estimada: \",vz)\n",
    "    print(\" \")\n",
    "    print(\"b)\")\n",
    "    print(\"Exitos: \",ext)\n",
    "    print(\"Probabilidad de Exitos: \",p1)\n",
    "    print(\"Valor Esperado: \",n*p1)\n",
    "    print(\"Varianza: \",z)\n",
    "\n",
    "if __name__ == \"__main__\":\n",
    "    inicializar(100)\n",
    "    voltearCartas()\n",
    "\n"
   ]
  },
  {
   "cell_type": "markdown",
   "metadata": {},
   "source": [
    "### 7. Aplique la prueba de Kolmogorov-Smirnov para comprobar si los siguientes generadores garantizan uniformidad: ###\n",
    "\n",
    "&nbsp;&nbsp;&nbsp;&nbsp;&nbsp;(a) $x_{0} = 7$ y $x_n = 5x_{n-1}\\,mod \\,150$, generando n = 1000 numeros.\n",
    "\n",
    "&nbsp;&nbsp;&nbsp;&nbsp;&nbsp;(b) $x_{0} = 3$ y $xn = 157x_{n-1}\\, + \\,1\\, mod\\, 2^{31}$, generando n = 1000 numeros.\n",
    "\n",
    "&nbsp;&nbsp;&nbsp;&nbsp;&nbsp;(c) $x_{0} = 3$ y $xn = 22695477x_{n-1}\\, +\\, 1 \\,mod \\,2^{32}$, generando n = 1000 numeros."
   ]
  },
  {
   "cell_type": "code",
   "execution_count": 2,
   "metadata": {},
   "outputs": [
    {
     "name": "stdout",
     "output_type": "stream",
     "text": [
      "a)\n"
     ]
    },
    {
     "data": {
      "image/png": "[encoded data removed]",
      "text/plain": [
       "<matplotlib.figure.Figure at 0x8de8070>"
      ]
     },
     "metadata": {},
     "output_type": "display_data"
    },
    {
     "name": "stdout",
     "output_type": "stream",
     "text": [
      "Mayor Diferencia:  0.333665865706\n",
      "Estadistico Teorico:  0.04300697617828996\n",
      "El generador de aleatorios no garantiza la uniformidad\n",
      " \n",
      "b)\n"
     ]
    },
    {
     "data": {
      "image/png": "[encoded data removed]",
      "text/plain": [
       "<matplotlib.figure.Figure at 0x8d31370>"
      ]
     },
     "metadata": {},
     "output_type": "display_data"
    },
    {
     "name": "stdout",
     "output_type": "stream",
     "text": [
      "Mayor Diferencia:  0.239519804267\n",
      "Estadistico Teorico:  0.04300697617828996\n",
      "El generador de aleatorios no garantiza la uniformidad\n",
      " \n",
      "c)\n"
     ]
    },
    {
     "data": {
      "image/png": "[encoded data removed]",
      "text/plain": [
       "<matplotlib.figure.Figure at 0x2b9f330>"
      ]
     },
     "metadata": {},
     "output_type": "display_data"
    },
    {
     "name": "stdout",
     "output_type": "stream",
     "text": [
      "Mayor Diferencia:  0.2531231297\n",
      "Estadistico Teorico:  0.04300697617828996\n",
      "El generador de aleatorios no garantiza la uniformidad\n",
      " \n"
     ]
    }
   ],
   "source": [
    "import math\n",
    "import matplotlib.pyplot as pl\n",
    "import numpy as np\n",
    "%matplotlib inline\n",
    "\n",
    "class KolmogorovSmirnov:\n",
    "    \n",
    "    p = []\n",
    "    xn = 0\n",
    "    a = 0 \n",
    "    m = 0\n",
    "    c = 0\n",
    "    n = 0\n",
    "    u = []\n",
    "    alp = 0\n",
    "    calp = 0\n",
    "    plt1 = pl\n",
    "    \n",
    "    \n",
    "    def __init__(self,p,u,alp,calp,xn,a,m,n,c = 0):\n",
    "        self.xn = xn\n",
    "        self.a = a\n",
    "        self.m = m\n",
    "        self.c = c\n",
    "        self.n = n\n",
    "        self.p = p\n",
    "        self.u = u\n",
    "        self.alp = alp\n",
    "        self.calp = calp\n",
    "        \n",
    "    def generar_aleatorio(self):\n",
    "        x = (self.a*self.xn + self.c) % self.m\n",
    "        self.xn = x\n",
    "        return(x/self.m)\n",
    "        \n",
    "    def getDistUniVb(self):\n",
    "        v = [None]*self.n\n",
    "        for i in range(self.n):\n",
    "            v[i] = self.generar_aleatorio()\n",
    "        return v\n",
    "        \n",
    "    def kolSm(self):\n",
    "        x1 = self.p\n",
    "        y1 = np.cumsum(np.sort(self.u)/np.max(np.cumsum(self.u)))\n",
    "        x = self.getDistUniVb()\n",
    "        x2 = np.sort(x)\n",
    "        y2 = np.cumsum(x2/np.max(np.cumsum(x2)))\n",
    "        D=np.absolute(y2-y1)\n",
    "        self.graf(pl,x1,y1,x2,y2,D)\n",
    "        self.validTest(y2,np.max(D))\n",
    "        \n",
    "    def validTest(self,y2,D):\n",
    "        est = 1.36/math.sqrt(n)\n",
    "        print(\"Mayor Diferencia: \",D)\n",
    "        print(\"Estadistico Teorico: \",est)\n",
    "        if D > est: \n",
    "            print(\"El generador de aleatorios no garantiza la uniformidad\")\n",
    "        else: \n",
    "            print(\"El generador de aleatorios sí garantiza la uniformidad\")\n",
    "        print(\" \")\n",
    "        \n",
    "    def graf(self,plt,x1,y1,x2,y2,D):\n",
    "        plt.plot(x1,y1,label='Distribucion Uniforme T')\n",
    "        plt.step(x2,y2,label='Distribucion Uniforme E')\n",
    "        x3 = [x1[D.argmax()],x1[D.argmax()]]\n",
    "        y3 = [np.min([y1[D.argmax()],y2[D.argmax()]]),np.max([y1[D.argmax()],y2[D.argmax()]])]\n",
    "        plt.step(x3,y3,label='D')\n",
    "        plt.legend()\n",
    "        plt.xlabel('X')\n",
    "        plt.ylabel('P(X)')\n",
    "        plt.show()\n",
    "\n",
    "n = 1000\n",
    "print(\"a)\")\n",
    "a = KolmogorovSmirnov(np.arange(1/n,1+1/n,1/n),[1]*n,0.05,1.36,7,5,150,n)\n",
    "a.kolSm()\n",
    "print(\"b)\")\n",
    "b = KolmogorovSmirnov(np.arange(1/n,1+1/n,1/n),[1]*n,0.05,1.36,3,157,2**31,n,c=1)\n",
    "b.kolSm()\n",
    "print(\"c)\")\n",
    "d = KolmogorovSmirnov(np.arange(1/n,1+1/n,1/n),[1]*n,0.05,1.36,3,22695477,2**32,n,c=1)\n",
    "d.kolSm()"
   ]
  },
  {
   "cell_type": "markdown",
   "metadata": {},
   "source": [
    "### 8. Aplique la prueba de $x^2$ para comprobar si los tres generadores congruenciales del punto 7 garantizan uniformidad. ###"
   ]
  },
  {
   "cell_type": "code",
   "execution_count": 22,
   "metadata": {},
   "outputs": [
    {
     "name": "stdout",
     "output_type": "stream",
     "text": [
      "a)\n",
      "El generador no garantiza uniformidad\n",
      "b)\n",
      "El generador garantiza uniformidad\n",
      "c)\n",
      "El generador garantiza uniformidad\n"
     ]
    }
   ],
   "source": [
    "import math\n",
    "import matplotlib.pyplot as pl\n",
    "import numpy as np\n",
    "%matplotlib inline\n",
    "\n",
    "class chi2:\n",
    "    \n",
    "    xn = 0\n",
    "    a = 0 \n",
    "    m = 0\n",
    "    c = 0\n",
    "    n = 0\n",
    "    alp = 0\n",
    "    k = 0\n",
    "    plt1 = pl\n",
    "    \n",
    "    \n",
    "    def __init__(self,alp,k,xn,a,m,n,c = 0):\n",
    "        self.xn = xn\n",
    "        self.a = a\n",
    "        self.m = m\n",
    "        self.c = c\n",
    "        self.n = n\n",
    "        self.alp = alp\n",
    "        self.k = k\n",
    "\n",
    "    def generar_aleatorio(self):\n",
    "        x = (self.a*self.xn + self.c) % self.m\n",
    "        self.xn = x\n",
    "        return(x/self.m)\n",
    "        \n",
    "    def getvAl(self):\n",
    "        v = [None]*self.n\n",
    "        for i in range(self.n):\n",
    "            v[i] = self.generar_aleatorio()\n",
    "        return v\n",
    "    \n",
    "    def getFre(self,v):\n",
    "        fre = pl.hist(v,self.k)[0]\n",
    "        pl.close()\n",
    "        return fre\n",
    "    \n",
    "    def chi_2(self):\n",
    "        v = self.getvAl()\n",
    "        re = self.getFre(v)\n",
    "        suma = 0\n",
    "        ex = self.n/self.k\n",
    "        \n",
    "        for i in range(self.k):\n",
    "            suma += (re[i] - ex )**2/ex\n",
    "            \n",
    "        if(suma < self.alp):\n",
    "            print(\"El generador garantiza uniformidad\")\n",
    "        else:\n",
    "            print(\"El generador no garantiza uniformidad\")\n",
    "\n",
    "print(\"a)\")\n",
    "a = chi2(16.919,10,7,5,150,1000)\n",
    "a.chi_2()\n",
    "print(\"b)\")\n",
    "b = chi2(16.919,10,3,157,2**31,1000,1)\n",
    "b.chi_2()\n",
    "print(\"c)\")\n",
    "d = chi2(16.919,10,3,22695477,2**32,1000,1)\n",
    "d.chi_2()\n",
    "        "
   ]
  },
  {
   "cell_type": "markdown",
   "metadata": {},
   "source": [
    "### 9. Aplique el test de rachas a cada uno de los tres generadores congruenciales del punto 7, para evaluar si cumplen con el criterio de aleatoriedad. ###"
   ]
  },
  {
   "cell_type": "code",
   "execution_count": 3,
   "metadata": {},
   "outputs": [
    {
     "name": "stdout",
     "output_type": "stream",
     "text": [
      "a)\n",
      "Rachas:  999\n",
      " Z =  -25.0352305819508\n",
      "Zo Teorico =  1.96\n",
      "No cumple con el criterio de aleatoriedad\n",
      " \n",
      "b)\n",
      "Rachas:  676\n",
      " Z =  -33.12161005992091\n",
      "Zo Teorico =  1.96\n",
      "No cumple con el criterio de aleatoriedad\n",
      " \n",
      "c)\n",
      "Rachas:  644\n",
      " Z =  -33.92273743854334\n",
      "Zo Teorico =  1.96\n",
      "No cumple con el criterio de aleatoriedad\n",
      " \n"
     ]
    }
   ],
   "source": [
    "import math\n",
    "\n",
    "class TestRachas():\n",
    "    xn = 0\n",
    "    a = 0 \n",
    "    m = 0\n",
    "    c = 0\n",
    "    n = 0\n",
    "    z = 0\n",
    "    \n",
    "    def __init__(self,xn,a,m,n,c = 0):\n",
    "        self.xn = xn\n",
    "        self.a = a\n",
    "        self.m = m\n",
    "        self.c = c\n",
    "        self.n = n\n",
    "        \n",
    "    def generar_aleatorio(self):\n",
    "        x = (self.a*self.xn + self.c) % self.m\n",
    "        self.xn = x\n",
    "        return(x/self.m)\n",
    "        \n",
    "    def getDistAl(self):\n",
    "        v = [None]*self.n\n",
    "        for i in range(self.n):\n",
    "            v[i] = self.generar_aleatorio()\n",
    "        return v\n",
    "\n",
    "    def getScSimBin(self,v):\n",
    "        sym = \"\";\n",
    "        cunos = 0\n",
    "        cceros = 0\n",
    "        for i in range(self.n - 1):\n",
    "            if(v[i] < v[i+1]):\n",
    "                sym+=\"1\"\n",
    "                cunos += 1\n",
    "            else:\n",
    "                cceros += 1\n",
    "                sym+=\"0\"\n",
    "        return sym,cunos,cceros\n",
    "    \n",
    "    def contRachas(self,sym):\n",
    "        rachas = 0\n",
    "        auxc = 0\n",
    "        auxu = 0\n",
    "        s = len(sym)\n",
    "        \n",
    "        if(sym[0] == \"1\"):\n",
    "            bin = True\n",
    "        else:\n",
    "            bin = False\n",
    "        for i in range(s):\n",
    "            if(bin):\n",
    "                if(sym[i] == \"1\"):\n",
    "                    auxu += 1\n",
    "                else:\n",
    "                    bin = False\n",
    "                    auxc = 0\n",
    "                    if(auxu > 0):\n",
    "                        rachas += 1\n",
    "                        auxu = 0\n",
    "\n",
    "                if(i+1 == s and auxu > 0):\n",
    "                    rachas+=1\n",
    "                \n",
    "            if(bin == False):\n",
    "                if(sym[i] == \"0\"):\n",
    "                    auxc += 1\n",
    "                else:\n",
    "                    bin = True\n",
    "                    auxu +=1\n",
    "                    if(auxc > 0):\n",
    "                        rachas += 1\n",
    "                        auxc = 0\n",
    "\n",
    "                if(i+1 == s and auxc > 0):\n",
    "                    rachas+=1\n",
    "        return rachas\n",
    "    \n",
    "    def calEst(self,cunos,cceros,r):\n",
    "        n = cunos + cceros\n",
    "        Z = ((r - (2*n)-1)/3)/math.sqrt((16*n-29)/90)\n",
    "        print(\" Z = \", Z)\n",
    "        u = (2*cunos*cceros)/(n) + 1\n",
    "        zo = 1.960 #Tomado de la tabla de distribucion normal con alpha/2 y un nivel de confianza del 95%\n",
    "        print(\"Zo Teorico = \", zo)\n",
    "    \n",
    "        if abs(Z)>zo:\n",
    "            print(\"No cumple con el criterio de aleatoriedad\")\n",
    "        else:\n",
    "            print(\"Si cumple con el  criterio de aleatoriedad\")\n",
    "        print(\" \")\n",
    "    \n",
    "    def ttRachas(self):\n",
    "        v = self.getDistAl()\n",
    "        sym,cunos,cceros = self.getScSimBin(v)\n",
    "        r = self.contRachas(sym)\n",
    "        print(\"Rachas: \",r)\n",
    "        self.calEst(cunos,cceros,r)  \n",
    "\n",
    "n = 1000\n",
    "print(\"a)\")\n",
    "a = TestRachas(7,5,150,n)\n",
    "a.ttRachas()\n",
    "print(\"b)\")\n",
    "b = TestRachas(3,157,2**31,n,1)\n",
    "b.ttRachas() \n",
    "print(\"c)\")\n",
    "d = TestRachas(3,22695477,2**32,n,1)\n",
    "d.ttRachas() "
   ]
  },
  {
   "cell_type": "markdown",
   "metadata": {},
   "source": [
    "### 10. Utilizando el método de Monte Carlo, y tomando como base el ejemplo del cálculo del área del circulo visto en clase: ###\n",
    "\n",
    "    (a)Implemente el método de Monte Carlo para calcular y mostrar el área estimada de una elipse con un semieje mayor a =       5 y semieje menor b = 3 centrado en el origen x,y = (0,0) generando 1000 coordenadas aleatorias (X,Y) en el rango de\n",
    "        X = [-a,a] y Y = [-b,b].\n",
    "    (b)Calcule el área real de la elipse.\n",
    "    (c)Calcule la diferencia entre el área real y el área estimada de la elipse con el método de Monte Carlo\n",
    "    (d)Gráfique los puntos aleatorios generados que caen dentro de la elipse en rojo y los que caen fuera de la elipse en       azul."
   ]
  },
  {
   "cell_type": "code",
   "execution_count": 28,
   "metadata": {},
   "outputs": [
    {
     "data": {
      "image/png": "[encoded data removed]",
      "text/plain": [
       "<matplotlib.figure.Figure at 0x3b87c70>"
      ]
     },
     "metadata": {},
     "output_type": "display_data"
    },
    {
     "name": "stdout",
     "output_type": "stream",
     "text": [
      "Area Elipse:  47.400000000000006\n",
      "Diferencia:  0.2761101961531125\n"
     ]
    }
   ],
   "source": [
    "import math\n",
    "import time\n",
    "from datetime import datetime\n",
    "import matplotlib.pyplot as pl\n",
    "%matplotlib inline\n",
    "\n",
    "xn1 = datetime.now().microsecond\n",
    "xn2 = 3000000 + datetime.now().microsecond\n",
    "\n",
    "a = 25214903917 \n",
    "m = 2 ** 48 - 1\n",
    "c = 11\n",
    "\n",
    "def generar_aleatorio(x):\n",
    "    xn = (a*x + c) % m\n",
    "    return (xn/m)\n",
    "\n",
    "def montecarlo_d(mn,a,b,c,d,f):\n",
    "    n = 0\n",
    "    x = 0\n",
    "    y = 0\n",
    "    xni = xn1\n",
    "    xnj = xn2\n",
    "    vfx = []\n",
    "    vdx = []\n",
    "    vfy = []\n",
    "    vdy = []\n",
    "    suma = 0\n",
    "    while n<mn:\n",
    "        u1 = generar_aleatorio(xni)\n",
    "        u2 = generar_aleatorio(xnj)\n",
    "        xni = u1*m\n",
    "        xnj = u2*m\n",
    "        x = a + (b-a)*u1\n",
    "        y = c + (d-c)*u2\n",
    "        if(f(x,y)<=1):\n",
    "            vdx.append(x)\n",
    "            vdy.append(y)\n",
    "            suma = suma + 1\n",
    "        else:\n",
    "            vfx.append(x)\n",
    "            vfy.append(y)\n",
    "            \n",
    "        n = n + 1\n",
    "    graf(vdx,vdy,vfx,vfy,b,d)\n",
    "    return suma/n*4*b*d\n",
    "\n",
    "def graf(v1,k1,v2,k2,a,b):\n",
    "    \n",
    "    pl.ylabel('Y')\n",
    "    pl.xlabel('X')\n",
    "   \n",
    "    pl.plot(v1,k1,'ro',color=\"red\")\n",
    "    pl.plot(v2,k2,'ro',color=\"blue\")\n",
    "    pl.grid(True)\n",
    "    pl.axis([-a,a,-b,b])\n",
    "    pl.show() \n",
    "\n",
    "if __name__ == \"__main__\":\n",
    "    a = 5\n",
    "    b = 3\n",
    "    area = montecarlo_d(1000,-a,a,-b,b,lambda x,y: x**2/a**2 + y**2/b**2)\n",
    "    print(\"Area Elipse: \", area)\n",
    "    print(\"Diferencia: \",abs(area - math.pi*a*b))"
   ]
  },
  {
   "attachments": {
    "image.png": {
     "image/png": "[encoded data removed]"
    }
   },
   "cell_type": "markdown",
   "metadata": {},
   "source": [
    "> **(a)** &nbsp;&nbsp; $ A_{est} = 47.400000000000006$ \n",
    "\n",
    "> **(b)** &nbsp;&nbsp; $ A = a*b*\\pi = 47.1238898$\n",
    "\n",
    "> **(c)** &nbsp;&nbsp; $ [A-A_{est}] = 0.2761101961531125$\n",
    "\n",
    "> **(d)** &nbsp;&nbsp;\n",
    "![image.png](attachment:image.png)"
   ]
  }
 ],
 "metadata": {
  "kernelspec": {
   "display_name": "Python 3",
   "language": "python",
   "name": "python3"
  },
  "language_info": {
   "codemirror_mode": {
    "name": "ipython",
    "version": 3
   },
   "file_extension": ".py",
   "mimetype": "text/x-python",
   "name": "python",
   "nbconvert_exporter": "python",
   "pygments_lexer": "ipython3",
   "version": "3.6.3"
  }
 },
 "nbformat": 4,
 "nbformat_minor": 2
}
